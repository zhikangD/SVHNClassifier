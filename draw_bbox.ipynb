{
 "cells": [
  {
   "cell_type": "code",
   "execution_count": 1,
   "metadata": {},
   "outputs": [
    {
     "name": "stderr",
     "output_type": "stream",
     "text": [
      "/usr/local/lib/python3.5/dist-packages/h5py/__init__.py:36: FutureWarning: Conversion of the second argument of issubdtype from `float` to `np.floating` is deprecated. In future, it will be treated as `np.float64 == np.dtype(float).type`.\n",
      "  from ._conv import register_converters as _register_converters\n"
     ]
    },
    {
     "name": "stdout",
     "output_type": "stream",
     "text": [
      "Populating the interactive namespace from numpy and matplotlib\n"
     ]
    }
   ],
   "source": [
    "import os\n",
    "import h5py\n",
    "from PIL import Image\n",
    "%pylab inline"
   ]
  },
  {
   "cell_type": "code",
   "execution_count": 30,
   "metadata": {},
   "outputs": [],
   "source": [
    "def get_attrs(digit_struct_mat_file, index):\n",
    "    \"\"\"\n",
    "    Returns a dictionary which contains keys: label, left, top, width and height, each key has multiple values.\n",
    "    \"\"\"\n",
    "    attrs = {}\n",
    "    f = digit_struct_mat_file\n",
    "    item = f['digitStruct2']['bbox'][index].item()\n",
    "    for key in ['label', 'left', 'top', 'width', 'height']:\n",
    "        attr = f[item][key]\n",
    "        values = [f[attr.value[i].item()].value[0][0]\n",
    "                  for i in range(len(attr))] if len(attr) > 1 else [attr.value[0][0]]\n",
    "        attrs[key] = values\n",
    "    return attrs"
   ]
  },
  {
   "cell_type": "code",
   "execution_count": 22,
   "metadata": {},
   "outputs": [],
   "source": [
    "path_to_dir = '/mnt/c/Users/zding/Pictures/spartan/data/test'\n",
    "path_to_digit_struct_mat_file = os.path.join(path_to_dir, 'digitStruct2.mat')"
   ]
  },
  {
   "cell_type": "code",
   "execution_count": 19,
   "metadata": {},
   "outputs": [
    {
     "name": "stdout",
     "output_type": "stream",
     "text": [
      "index 1: /mnt/c/Users/zding/Pictures/spartan/data/test/2.png\n"
     ]
    }
   ],
   "source": [
    "path_to_image_file = os.path.join(path_to_dir, '2.png')\n",
    "index = int(path_to_image_file.split('/')[-1].split('.')[0]) - 1\n",
    "print ('index %d: %s' % (index, path_to_image_file))"
   ]
  },
  {
   "cell_type": "code",
   "execution_count": 25,
   "metadata": {},
   "outputs": [],
   "source": [
    "f = h5py.File(path_to_digit_struct_mat_file, 'r')"
   ]
  },
  {
   "cell_type": "code",
   "execution_count": 31,
   "metadata": {},
   "outputs": [
    {
     "name": "stdout",
     "output_type": "stream",
     "text": [
      "min_left=99, min_top=5, max_right=133, max_bottom=31\n",
      "center_x=116.0, center_y=18.0, max_side=34\n",
      "bbox: left=99.0, top=1.0, width=34, height=34\n",
      "cropped: left=94, top=-4, width=44, height=44\n"
     ]
    }
   ],
   "source": [
    "with h5py.File(path_to_digit_struct_mat_file, 'r') as digit_struct_mat_file:\n",
    "    attrs = get_attrs(digit_struct_mat_file, index)\n",
    "    length = len(attrs['label'])\n",
    "    attrs_left, attrs_top, attrs_width, attrs_height = map(lambda x: [int(i) for i in x],\n",
    "                                                       [attrs['left'], attrs['top'], attrs['width'], attrs['height']])\n",
    "    min_left, min_top, max_right, max_bottom = (min(attrs_left),\n",
    "                                                min(attrs_top),\n",
    "                                                max(map(lambda x, y: x + y, attrs_left, attrs_width)),\n",
    "                                                max(map(lambda x, y: x + y, attrs_top, attrs_height)))\n",
    "    center_x, center_y, max_side = ((min_left + max_right) / 2.0,\n",
    "                                    (min_top + max_bottom) / 2.0,\n",
    "                                    max(max_right - min_left, max_bottom - min_top))\n",
    "    bbox_left, bbox_top, bbox_width, bbox_height = (center_x - max_side / 2.0, \n",
    "                                                    center_y - max_side / 2.0, \n",
    "                                                    max_side,\n",
    "                                                    max_side)\n",
    "    cropped_left, cropped_top, cropped_width, cropped_height = (int(round(bbox_left - 0.15 * bbox_width)),\n",
    "                                                                int(round(bbox_top - 0.15 * bbox_height)),\n",
    "                                                                int(round(bbox_width * 1.3)),\n",
    "                                                                int(round(bbox_height * 1.3)))\n",
    "print ('min_left=%d, min_top=%d, max_right=%d, max_bottom=%d' % (min_left, min_top, max_right, max_bottom))\n",
    "print ('center_x=%.1f, center_y=%.1f, max_side=%d' % (center_x, center_y, max_side))\n",
    "print ('bbox: left=%.1f, top=%.1f, width=%d, height=%d' % (bbox_left, bbox_top, bbox_width, bbox_height))\n",
    "print ('cropped: left=%d, top=%d, width=%d, height=%d' % (cropped_left, cropped_top, cropped_width, cropped_height))"
   ]
  },
  {
   "cell_type": "code",
   "execution_count": 32,
   "metadata": {},
   "outputs": [
    {
     "data": {
      "image/png": "[encoded data removed]",
      "text/plain": [
       "<matplotlib.figure.Figure at 0x7fe277da1dd8>"
      ]
     },
     "metadata": {},
     "output_type": "display_data"
    }
   ],
   "source": [
    "image = Image.open(path_to_image_file)\n",
    "plt.figure()\n",
    "currentAxis = plt.gca()\n",
    "currentAxis.imshow(image)\n",
    "currentAxis.add_patch(Rectangle((cropped_left, cropped_top), cropped_width, cropped_height, fill=False, edgecolor='red'))\n",
    "currentAxis.add_patch(Rectangle((bbox_left, bbox_top), bbox_width, bbox_height, fill=False, edgecolor='green'))\n",
    "for attr_left, attr_top, attr_width, attr_height in zip(attrs_left, attrs_top, attrs_width, attrs_height):\n",
    "    currentAxis.add_patch(Rectangle((attr_left, attr_top), attr_width, attr_height, fill=False, edgecolor='white', linestyle='dotted'))\n",
    "plt.show()"
   ]
  },
  {
   "cell_type": "code",
   "execution_count": null,
   "metadata": {},
   "outputs": [],
   "source": [
    "import os\n",
    "import argparse\n",
    "import json\n",
    "parser = argparse.ArgumentParser(description=\"Tool that loads model and predicts on a given image\")\n",
    "args = parser.parse_args()\n",
    "import chainer\n",
    "import chainer.functions as F\n",
    "from PIL import Image\n",
    "def load_image(image_file, xp):\n",
    "    with Image.open(image_file) as the_image:\n",
    "        image = xp.asarray(the_image, dtype=np.float32)\n",
    "        image /= 255\n",
    "        image = image.transpose(2, 0, 1)\n",
    "    #\n",
    "        return image\n",
    "args.is_original_fsns = True\n",
    "args.log_name = 'log'\n",
    "args.dropout_ratio = 0.5\n",
    "args.blank_symbol = 0\n",
    "# max number of text regions in the image\n",
    "args.timesteps = 4\n",
    "# max number of characters per word\n",
    "args.num_labels = 21\n",
    "args.model_dir = '/home/ubuntu/zk/see/datasets/models/'\n",
    "# open log and extract meta information\n",
    "with open(os.path.join(args.model_dir, args.log_name)) as the_log:\n",
    "    log_data = json.load(the_log)[0]\n",
    "\n",
    "target_shape = Size._make(log_data['target_size'])\n",
    "image_size = Size._make(log_data['image_size'])\n",
    "args.gpu = -1\n",
    "xp = chainer.cuda.cupy if args.gpu >= 0 else np\n",
    "network = create_network(args, log_data)\n",
    "args.snapshot_name = 'model_35000.npz'\n",
    "# load weights\n",
    "with np.load(os.path.join(args.model_dir, args.snapshot_name)) as f:\n",
    "    chainer.serializers.NpzDeserializer(f).load(network)\n",
    "args.char_map = '/home/ubuntu/zk/see/datasets/svhn/svhn_char_map.json'\n",
    "# load char map\n",
    "with open(args.char_map) as the_map:\n",
    "    char_map = json.load(the_map)\n",
    "args.image_path = '/home/ubuntu/zk/see/datasets/testimg/4.png'\n",
    "# load image\n",
    "image = load_image(args.image_path, xp)\n",
    "with configuration.using_config('train', False):\n",
    "    predictions, crops, grids = network(image[xp.newaxis, ...])"
   ]
  }
 ],
 "metadata": {
  "kernelspec": {
   "display_name": "Python 3",
   "language": "python",
   "name": "python3"
  },
  "language_info": {
   "codemirror_mode": {
    "name": "ipython",
    "version": 3
   },
   "file_extension": ".py",
   "mimetype": "text/x-python",
   "name": "python",
   "nbconvert_exporter": "python",
   "pygments_lexer": "ipython3",
   "version": "3.5.2"
  }
 },
 "nbformat": 4,
 "nbformat_minor": 2
}
