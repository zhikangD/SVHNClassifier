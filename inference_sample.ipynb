{
 "cells": [
  {
   "cell_type": "code",
   "execution_count": 1,
   "metadata": {},
   "outputs": [
    {
     "name": "stderr",
     "output_type": "stream",
     "text": [
      "/usr/local/lib/python3.5/dist-packages/h5py/__init__.py:36: FutureWarning: Conversion of the second argument of issubdtype from `float` to `np.floating` is deprecated. In future, it will be treated as `np.float64 == np.dtype(float).type`.\n",
      "  from ._conv import register_converters as _register_converters\n"
     ]
    },
    {
     "name": "stdout",
     "output_type": "stream",
     "text": [
      "Populating the interactive namespace from numpy and matplotlib\n"
     ]
    }
   ],
   "source": [
    "import tensorflow as tf\n",
    "from donkey import Donkey\n",
    "from model import Model\n",
    "from meta import Meta\n",
    "%pylab inline"
   ]
  },
  {
   "cell_type": "code",
   "execution_count": 2,
   "metadata": {},
   "outputs": [],
   "source": [
    "path_to_eval_tfrecords_file = '/mnt/c/Users/zding/Pictures/spartan/data/test.tfrecords'\n",
    "batch_size = 16"
   ]
  },
  {
   "cell_type": "code",
   "execution_count": 3,
   "metadata": {},
   "outputs": [],
   "source": [
    "meta = Meta()\n",
    "meta.load('/mnt/c/Users/zding/Pictures/spartan/data/meta.json')"
   ]
  },
  {
   "cell_type": "code",
   "execution_count": 4,
   "metadata": {},
   "outputs": [],
   "source": [
    "image_batch, length_batch, digits_batch = Donkey.build_batch(path_to_eval_tfrecords_file, batch_size=batch_size, num_examples=meta.num_test_examples, shuffled=False)\n",
    "length_logits, digits_logits = Model.inference(image_batch, drop_rate=0.0)\n",
    "length_predictions = tf.argmax(length_logits, axis=1)\n",
    "digits_predictions = tf.argmax(digits_logits, axis=2)\n",
    "digits_batch_string = tf.reduce_join(tf.as_string(digits_batch), axis=1)\n",
    "digits_predictions_string = tf.reduce_join(tf.as_string(digits_predictions), axis=1)"
   ]
  },
  {
   "cell_type": "code",
   "execution_count": 7,
   "metadata": {},
   "outputs": [
    {
     "data": {
      "text/plain": [
       "array([[[[ 0.17647064,  0.23921573,  0.32549024],\n",
       "         [ 0.17647064,  0.23921573,  0.32549024],\n",
       "         [ 0.17647064,  0.23921573,  0.32549024],\n",
       "         ...,\n",
       "         [ 0.1686275 ,  0.22352946,  0.27058828],\n",
       "         [ 0.1686275 ,  0.22352946,  0.27058828],\n",
       "         [ 0.1686275 ,  0.22352946,  0.27058828]],\n",
       "\n",
       "        [[ 0.17647064,  0.23921573,  0.32549024],\n",
       "         [ 0.17647064,  0.23921573,  0.32549024],\n",
       "         [ 0.17647064,  0.23921573,  0.32549024],\n",
       "         ...,\n",
       "         [ 0.1686275 ,  0.22352946,  0.27058828],\n",
       "         [ 0.1686275 ,  0.22352946,  0.27058828],\n",
       "         [ 0.1686275 ,  0.22352946,  0.27058828]],\n",
       "\n",
       "        [[ 0.17647064,  0.23921573,  0.32549024],\n",
       "         [ 0.17647064,  0.23921573,  0.32549024],\n",
       "         [ 0.17647064,  0.23921573,  0.32549024],\n",
       "         ...,\n",
       "         [ 0.1686275 ,  0.22352946,  0.27058828],\n",
       "         [ 0.1686275 ,  0.22352946,  0.27058828],\n",
       "         [ 0.1686275 ,  0.22352946,  0.27058828]],\n",
       "\n",
       "        ...,\n",
       "\n",
       "        [[ 0.26274514,  0.3176471 ,  0.36470592],\n",
       "         [ 0.26274514,  0.3176471 ,  0.36470592],\n",
       "         [ 0.26274514,  0.3176471 ,  0.36470592],\n",
       "         ...,\n",
       "         [ 0.2313726 ,  0.28627455,  0.34901965],\n",
       "         [ 0.2313726 ,  0.28627455,  0.34901965],\n",
       "         [ 0.2313726 ,  0.28627455,  0.34901965]],\n",
       "\n",
       "        [[ 0.27058828,  0.32549024,  0.38823533],\n",
       "         [ 0.27058828,  0.32549024,  0.38823533],\n",
       "         [ 0.27058828,  0.32549024,  0.38823533],\n",
       "         ...,\n",
       "         [ 0.2941177 ,  0.34901965,  0.39607847],\n",
       "         [ 0.2941177 ,  0.34901965,  0.39607847],\n",
       "         [ 0.2941177 ,  0.34901965,  0.39607847]],\n",
       "\n",
       "        [[ 0.27058828,  0.32549024,  0.38823533],\n",
       "         [ 0.27058828,  0.32549024,  0.38823533],\n",
       "         [ 0.27058828,  0.32549024,  0.38823533],\n",
       "         ...,\n",
       "         [ 0.2941177 ,  0.34901965,  0.39607847],\n",
       "         [ 0.2941177 ,  0.34901965,  0.39607847],\n",
       "         [ 0.2941177 ,  0.34901965,  0.39607847]]],\n",
       "\n",
       "\n",
       "       [[[-1.        , -1.        , -1.        ],\n",
       "         [-1.        , -1.        , -1.        ],\n",
       "         [-1.        , -1.        , -1.        ],\n",
       "         ...,\n",
       "         [-1.        , -1.        , -1.        ],\n",
       "         [-1.        , -1.        , -1.        ],\n",
       "         [-1.        , -1.        , -1.        ]],\n",
       "\n",
       "        [[-1.        , -1.        , -1.        ],\n",
       "         [-1.        , -1.        , -1.        ],\n",
       "         [-1.        , -1.        , -1.        ],\n",
       "         ...,\n",
       "         [-1.        , -1.        , -1.        ],\n",
       "         [-1.        , -1.        , -1.        ],\n",
       "         [-1.        , -1.        , -1.        ]],\n",
       "\n",
       "        [[-1.        , -1.        , -1.        ],\n",
       "         [-1.        , -1.        , -1.        ],\n",
       "         [-1.        , -1.        , -1.        ],\n",
       "         ...,\n",
       "         [-1.        , -1.        , -1.        ],\n",
       "         [-1.        , -1.        , -1.        ],\n",
       "         [-1.        , -1.        , -1.        ]],\n",
       "\n",
       "        ...,\n",
       "\n",
       "        [[-1.        , -1.        , -1.        ],\n",
       "         [-1.        , -1.        , -1.        ],\n",
       "         [-1.        , -1.        , -1.        ],\n",
       "         ...,\n",
       "         [-1.        , -1.        , -1.        ],\n",
       "         [-1.        , -1.        , -1.        ],\n",
       "         [-1.        , -1.        , -1.        ]],\n",
       "\n",
       "        [[-1.        , -1.        , -1.        ],\n",
       "         [-1.        , -1.        , -1.        ],\n",
       "         [-1.        , -1.        , -1.        ],\n",
       "         ...,\n",
       "         [-1.        , -1.        , -1.        ],\n",
       "         [-1.        , -1.        , -1.        ],\n",
       "         [-1.        , -1.        , -1.        ]],\n",
       "\n",
       "        [[-1.        , -1.        , -1.        ],\n",
       "         [-1.        , -1.        , -1.        ],\n",
       "         [-1.        , -1.        , -1.        ],\n",
       "         ...,\n",
       "         [-1.        , -1.        , -1.        ],\n",
       "         [-1.        , -1.        , -1.        ],\n",
       "         [-1.        , -1.        , -1.        ]]],\n",
       "\n",
       "\n",
       "       [[[ 0.254902  ,  0.32549024,  0.3803922 ],\n",
       "         [ 0.22352946,  0.30980396,  0.35686278],\n",
       "         [ 0.07450986,  0.15294123,  0.24705887],\n",
       "         ...,\n",
       "         [ 0.07450986, -0.01176465,  0.09803927],\n",
       "         [ 0.27843142,  0.20784318,  0.2313726 ],\n",
       "         [ 0.4039216 ,  0.3411765 ,  0.3176471 ]],\n",
       "\n",
       "        [[ 0.254902  ,  0.32549024,  0.3803922 ],\n",
       "         [ 0.22352946,  0.30980396,  0.35686278],\n",
       "         [ 0.07450986,  0.15294123,  0.24705887],\n",
       "         ...,\n",
       "         [ 0.07450986, -0.01176465,  0.09803927],\n",
       "         [ 0.27843142,  0.20784318,  0.2313726 ],\n",
       "         [ 0.4039216 ,  0.3411765 ,  0.3176471 ]],\n",
       "\n",
       "        [[ 0.28627455,  0.35686278,  0.41176474],\n",
       "         [ 0.15294123,  0.254902  ,  0.3176471 ],\n",
       "         [-0.00392151,  0.06666672,  0.18431377],\n",
       "         ...,\n",
       "         [ 0.01176476, -0.05098033,  0.05098045],\n",
       "         [ 0.23921573,  0.19215691,  0.22352946],\n",
       "         [ 0.38823533,  0.34901965,  0.32549024]],\n",
       "\n",
       "        ...,\n",
       "\n",
       "        [[ 0.41176474,  0.36470592,  0.47450984],\n",
       "         [ 0.41960788,  0.39607847,  0.48235297],\n",
       "         [ 0.41960788,  0.41176474,  0.45882356],\n",
       "         ...,\n",
       "         [ 0.1686275 ,  0.18431377,  0.082353  ],\n",
       "         [ 0.20000005,  0.20784318,  0.16078436],\n",
       "         [ 0.254902  ,  0.23921573,  0.24705887]],\n",
       "\n",
       "        [[ 0.427451  ,  0.3803922 ,  0.45882356],\n",
       "         [ 0.43529415,  0.39607847,  0.45098042],\n",
       "         [ 0.41176474,  0.39607847,  0.43529415],\n",
       "         ...,\n",
       "         [ 0.2313726 ,  0.23921573,  0.17647064],\n",
       "         [ 0.24705887,  0.24705887,  0.2313726 ],\n",
       "         [ 0.23921573,  0.23921573,  0.254902  ]],\n",
       "\n",
       "        [[ 0.45098042,  0.41176474,  0.45882356],\n",
       "         [ 0.45882356,  0.41960788,  0.4666667 ],\n",
       "         [ 0.427451  ,  0.41176474,  0.45098042],\n",
       "         ...,\n",
       "         [ 0.23921573,  0.2313726 ,  0.19215691],\n",
       "         [ 0.23921573,  0.23921573,  0.23921573],\n",
       "         [ 0.2313726 ,  0.22352946,  0.26274514]]],\n",
       "\n",
       "\n",
       "       ...,\n",
       "\n",
       "\n",
       "       [[[-0.7019608 , -0.6784314 , -0.8117647 ],\n",
       "         [-0.70980394, -0.69411767, -0.8039216 ],\n",
       "         [-0.70980394, -0.69411767, -0.8039216 ],\n",
       "         ...,\n",
       "         [-0.64705884, -0.7019608 , -0.7647059 ],\n",
       "         [-0.6627451 , -0.69411767, -0.7647059 ],\n",
       "         [-0.654902  , -0.6862745 , -0.77254903]],\n",
       "\n",
       "        [[-0.7019608 , -0.6862745 , -0.79607844],\n",
       "         [-0.70980394, -0.69411767, -0.79607844],\n",
       "         [-0.70980394, -0.69411767, -0.79607844],\n",
       "         ...,\n",
       "         [-0.64705884, -0.7019608 , -0.7647059 ],\n",
       "         [-0.6627451 , -0.69411767, -0.7647059 ],\n",
       "         [-0.6627451 , -0.69411767, -0.7647059 ]],\n",
       "\n",
       "        [[-0.7019608 , -0.6862745 , -0.7882353 ],\n",
       "         [-0.7019608 , -0.6862745 , -0.77254903],\n",
       "         [-0.7019608 , -0.6862745 , -0.77254903],\n",
       "         ...,\n",
       "         [-0.67058825, -0.70980394, -0.75686276],\n",
       "         [-0.69411767, -0.7254902 , -0.79607844],\n",
       "         [-0.7176471 , -0.7411765 , -0.8117647 ]],\n",
       "\n",
       "        ...,\n",
       "\n",
       "        [[-0.6627451 , -0.64705884, -0.75686276],\n",
       "         [-0.6784314 , -0.6627451 , -0.77254903],\n",
       "         [-0.69411767, -0.6627451 , -0.77254903],\n",
       "         ...,\n",
       "         [-0.6862745 , -0.67058825, -0.75686276],\n",
       "         [-0.69411767, -0.6627451 , -0.77254903],\n",
       "         [-0.69411767, -0.6627451 , -0.78039217]],\n",
       "\n",
       "        [[-1.        , -1.        , -1.        ],\n",
       "         [-1.        , -1.        , -1.        ],\n",
       "         [-1.        , -1.        , -1.        ],\n",
       "         ...,\n",
       "         [-1.        , -1.        , -1.        ],\n",
       "         [-1.        , -1.        , -1.        ],\n",
       "         [-1.        , -1.        , -1.        ]],\n",
       "\n",
       "        [[-1.        , -1.        , -1.        ],\n",
       "         [-1.        , -1.        , -1.        ],\n",
       "         [-1.        , -1.        , -1.        ],\n",
       "         ...,\n",
       "         [-1.        , -1.        , -1.        ],\n",
       "         [-1.        , -1.        , -1.        ],\n",
       "         [-1.        , -1.        , -1.        ]]],\n",
       "\n",
       "\n",
       "       [[[ 0.48235297,  0.45882356,  0.51372564],\n",
       "         [ 0.48235297,  0.45882356,  0.51372564],\n",
       "         [ 0.48235297,  0.45882356,  0.51372564],\n",
       "         ...,\n",
       "         [ 0.47450984,  0.45882356,  0.48235297],\n",
       "         [ 0.47450984,  0.45882356,  0.48235297],\n",
       "         [ 0.45882356,  0.45098042,  0.43529415]],\n",
       "\n",
       "        [[ 0.48235297,  0.45882356,  0.51372564],\n",
       "         [ 0.48235297,  0.45882356,  0.51372564],\n",
       "         [ 0.48235297,  0.45882356,  0.51372564],\n",
       "         ...,\n",
       "         [ 0.47450984,  0.45882356,  0.48235297],\n",
       "         [ 0.47450984,  0.45882356,  0.48235297],\n",
       "         [ 0.45882356,  0.45098042,  0.43529415]],\n",
       "\n",
       "        [[ 0.48235297,  0.45882356,  0.51372564],\n",
       "         [ 0.48235297,  0.45882356,  0.51372564],\n",
       "         [ 0.48235297,  0.45882356,  0.51372564],\n",
       "         ...,\n",
       "         [ 0.47450984,  0.45882356,  0.48235297],\n",
       "         [ 0.47450984,  0.45882356,  0.48235297],\n",
       "         [ 0.45882356,  0.45098042,  0.43529415]],\n",
       "\n",
       "        ...,\n",
       "\n",
       "        [[ 0.39607847,  0.39607847,  0.4901961 ],\n",
       "         [ 0.39607847,  0.39607847,  0.4901961 ],\n",
       "         [ 0.39607847,  0.39607847,  0.4901961 ],\n",
       "         ...,\n",
       "         [ 0.45882356,  0.45882356,  0.5529413 ],\n",
       "         [ 0.45882356,  0.45882356,  0.5529413 ],\n",
       "         [ 0.21568632,  0.19215691,  0.32549024]],\n",
       "\n",
       "        [[ 0.39607847,  0.39607847,  0.4901961 ],\n",
       "         [ 0.39607847,  0.39607847,  0.4901961 ],\n",
       "         [ 0.39607847,  0.39607847,  0.4901961 ],\n",
       "         ...,\n",
       "         [ 0.45882356,  0.45882356,  0.5529413 ],\n",
       "         [ 0.45882356,  0.45882356,  0.5529413 ],\n",
       "         [ 0.21568632,  0.19215691,  0.32549024]],\n",
       "\n",
       "        [[ 0.41960788,  0.41960788,  0.51372564],\n",
       "         [ 0.41960788,  0.41960788,  0.51372564],\n",
       "         [ 0.41960788,  0.41960788,  0.51372564],\n",
       "         ...,\n",
       "         [ 0.4039216 ,  0.41960788,  0.5215688 ],\n",
       "         [ 0.4039216 ,  0.41960788,  0.5215688 ],\n",
       "         [ 0.27843142,  0.27058828,  0.39607847]]],\n",
       "\n",
       "\n",
       "       [[[ 0.2313726 ,  0.30196083,  0.3411765 ],\n",
       "         [ 0.2313726 ,  0.30196083,  0.3411765 ],\n",
       "         [ 0.2313726 ,  0.30196083,  0.35686278],\n",
       "         ...,\n",
       "         [ 0.254902  ,  0.32549024,  0.36470592],\n",
       "         [ 0.24705887,  0.32549024,  0.3411765 ],\n",
       "         [ 0.24705887,  0.32549024,  0.3411765 ]],\n",
       "\n",
       "        [[ 0.2313726 ,  0.30196083,  0.3411765 ],\n",
       "         [ 0.2313726 ,  0.30196083,  0.3411765 ],\n",
       "         [ 0.2313726 ,  0.30196083,  0.35686278],\n",
       "         ...,\n",
       "         [ 0.254902  ,  0.32549024,  0.36470592],\n",
       "         [ 0.24705887,  0.32549024,  0.3411765 ],\n",
       "         [ 0.24705887,  0.32549024,  0.3411765 ]],\n",
       "\n",
       "        [[ 0.2313726 ,  0.30196083,  0.3411765 ],\n",
       "         [ 0.2313726 ,  0.30196083,  0.3411765 ],\n",
       "         [ 0.24705887,  0.3176471 ,  0.37254906],\n",
       "         ...,\n",
       "         [ 0.21568632,  0.28627455,  0.32549024],\n",
       "         [ 0.22352946,  0.30196083,  0.3176471 ],\n",
       "         [ 0.22352946,  0.30196083,  0.3176471 ]],\n",
       "\n",
       "        ...,\n",
       "\n",
       "        [[ 0.20000005,  0.27843142,  0.28627455],\n",
       "         [ 0.20000005,  0.27843142,  0.28627455],\n",
       "         [ 0.17647064,  0.254902  ,  0.26274514],\n",
       "         ...,\n",
       "         [ 0.2313726 ,  0.28627455,  0.34901965],\n",
       "         [ 0.22352946,  0.27843142,  0.3411765 ],\n",
       "         [ 0.22352946,  0.27843142,  0.3411765 ]],\n",
       "\n",
       "        [[ 0.22352946,  0.30196083,  0.30980396],\n",
       "         [ 0.22352946,  0.30196083,  0.30980396],\n",
       "         [ 0.20000005,  0.27843142,  0.28627455],\n",
       "         ...,\n",
       "         [ 0.2313726 ,  0.28627455,  0.34901965],\n",
       "         [ 0.22352946,  0.27843142,  0.3411765 ],\n",
       "         [ 0.22352946,  0.27843142,  0.3411765 ]],\n",
       "\n",
       "        [[ 0.22352946,  0.30196083,  0.30980396],\n",
       "         [ 0.22352946,  0.30196083,  0.30980396],\n",
       "         [ 0.20000005,  0.27843142,  0.28627455],\n",
       "         ...,\n",
       "         [ 0.2313726 ,  0.28627455,  0.34901965],\n",
       "         [ 0.22352946,  0.27843142,  0.3411765 ],\n",
       "         [ 0.22352946,  0.27843142,  0.3411765 ]]]], dtype=float32)"
      ]
     },
     "execution_count": 7,
     "metadata": {},
     "output_type": "execute_result"
    }
   ],
   "source": [
    "image_batch.eval()"
   ]
  },
  {
   "cell_type": "code",
   "execution_count": 6,
   "metadata": {},
   "outputs": [],
   "source": [
    "sess = tf.InteractiveSession()\n",
    "coord = tf.train.Coordinator()\n",
    "threads = tf.train.start_queue_runners(coord=coord)"
   ]
  },
  {
   "cell_type": "code",
   "execution_count": 8,
   "metadata": {},
   "outputs": [
    {
     "name": "stdout",
     "output_type": "stream",
     "text": [
      "INFO:tensorflow:Restoring parameters from /mnt/c/Users/zding/Pictures/spartan/data/latest.ckpt\n"
     ]
    }
   ],
   "source": [
    "restorer = tf.train.Saver()\n",
    "checkpoint_path = tf.train.latest_checkpoint('/mnt/c/Users/zding/Pictures/spartan/data/')\n",
    "restorer.restore(sess, checkpoint_path)"
   ]
  },
  {
   "cell_type": "code",
   "execution_count": 9,
   "metadata": {},
   "outputs": [],
   "source": [
    "length_predictions_val, digits_predictions_string_val, image_batch_val = sess.run([length_predictions, digits_predictions_string, image_batch])\n",
    "image_batch_val = (image_batch_val / 2.0) + 0.5"
   ]
  },
  {
   "cell_type": "code",
   "execution_count": 10,
   "metadata": {},
   "outputs": [],
   "source": [
    "idx = 1\n",
    "image_val = image_batch_val[idx]\n",
    "length_prediction_val = length_predictions_val[idx]\n",
    "digits_prediction_string_val = digits_predictions_string_val[idx]"
   ]
  },
  {
   "cell_type": "code",
   "execution_count": 11,
   "metadata": {},
   "outputs": [
    {
     "name": "stdout",
     "output_type": "stream",
     "text": [
      "length: 1\n",
      "digits: b'310101010'\n"
     ]
    },
    {
     "data": {
      "image/png": "[encoded data removed]",
      "text/plain": [
       "<matplotlib.figure.Figure at 0x7fd54d023e48>"
      ]
     },
     "metadata": {},
     "output_type": "display_data"
    }
   ],
   "source": [
    "imshow(image_val)\n",
    "print ('length: %d' % length_prediction_val)\n",
    "print ('digits: %s' % digits_prediction_string_val)"
   ]
  },
  {
   "cell_type": "code",
   "execution_count": 10,
   "metadata": {},
   "outputs": [],
   "source": [
    "coord.request_stop()\n",
    "coord.join(threads)\n",
    "sess.close()"
   ]
  },
  {
   "cell_type": "code",
   "execution_count": null,
   "metadata": {},
   "outputs": [],
   "source": [
    "def convert_to_tfrecords(path_to_dataset_dir_and_digit_struct_mat_file_tuples,\n",
    "                         path_to_tfrecords_files, choose_writer_callback):\n",
    "    num_examples = []\n",
    "    writers = []\n",
    "\n",
    "    for path_to_tfrecords_file in path_to_tfrecords_files:\n",
    "        num_examples.append(0)\n",
    "        writers.append(tf.python_io.TFRecordWriter(path_to_tfrecords_file))\n",
    "\n",
    "    for path_to_dataset_dir, path_to_digit_struct_mat_file in path_to_dataset_dir_and_digit_struct_mat_file_tuples:\n",
    "        path_to_image_files = tf.gfile.Glob(os.path.join(path_to_dataset_dir, '*.png'))\n",
    "        total_files = len(path_to_image_files)\n",
    "        print ('%d files found in %s' % (total_files, path_to_dataset_dir))\n",
    "\n",
    "        with h5py.File(path_to_digit_struct_mat_file, 'r') as digit_struct_mat_file:\n",
    "            example_reader = ExampleReader(path_to_image_files)\n",
    "            for index, path_to_image_file in enumerate(path_to_image_files):\n",
    "                print ('(%d/%d) processing %s' % (index + 1, total_files, path_to_image_file))\n",
    "\n",
    "                example = example_reader.read_and_convert(digit_struct_mat_file)\n",
    "                if example is None:\n",
    "                    break\n",
    "\n",
    "                idx = choose_writer_callback(path_to_tfrecords_files)\n",
    "                writers[idx].write(example.SerializeToString())\n",
    "                num_examples[idx] += 1\n",
    "\n",
    "    for writer in writers:\n",
    "        writer.close()\n",
    "\n",
    "    return num_examples"
   ]
  },
  {
   "cell_type": "code",
   "execution_count": 16,
   "metadata": {},
   "outputs": [],
   "source": [
    "import os\n",
    "import numpy as np\n",
    "from PIL import Image\n",
    "num_examples = []\n",
    "writers = []\n",
    "imgpath='/mnt/c/Users/zding/Pictures/spartan/data/ocr/'\n",
    "path_to_tfrecords_file='/mnt/c/Users/zding/Pictures/spartan/data/test2.tfrecords'\n",
    "num_examples.append(0)\n",
    "writers.append(tf.python_io.TFRecordWriter(path_to_tfrecords_file))\n",
    "path_to_image_files = tf.gfile.Glob(os.path.join(imgpath, '*.jpg'))"
   ]
  },
  {
   "cell_type": "code",
   "execution_count": 17,
   "metadata": {},
   "outputs": [
    {
     "data": {
      "text/plain": [
       "['/mnt/c/Users/zding/Pictures/spartan/data/ocr/1_105-crop1.jpg',\n",
       " '/mnt/c/Users/zding/Pictures/spartan/data/ocr/1_13-crop0.jpg',\n",
       " '/mnt/c/Users/zding/Pictures/spartan/data/ocr/1_63-crop0.jpg',\n",
       " '/mnt/c/Users/zding/Pictures/spartan/data/ocr/2_63-crop0.jpg',\n",
       " '/mnt/c/Users/zding/Pictures/spartan/data/ocr/31.jpg']"
      ]
     },
     "execution_count": 17,
     "metadata": {},
     "output_type": "execute_result"
    }
   ],
   "source": [
    "path_to_image_files"
   ]
  },
  {
   "cell_type": "code",
   "execution_count": 22,
   "metadata": {},
   "outputs": [],
   "source": [
    "for fle in path_to_image_files:\n",
    "    im = Image.open(fle)\n",
    "    im = np.array(im.resize((64,64))).tobytes()\n",
    "    feature = tf.train.Feature(bytes_list=tf.train.BytesList(value=[im]))\n",
    "    example = tf.train.Example(features=tf.train.Features(feature={'image': feature}))\n",
    "    writers.append(tf.python_io.TFRecordWriter(path_to_tfrecords_file))\n",
    "    idx = 0\n",
    "    writers[idx].write(example.SerializeToString())\n",
    "    num_examples[idx] += 1"
   ]
  },
  {
   "cell_type": "code",
   "execution_count": 24,
   "metadata": {},
   "outputs": [],
   "source": [
    "data_path= '/mnt/c/Users/zding/Pictures/spartan/data/test2.tfrecords'\n",
    "reader = tf.TFRecordReader()\n",
    "filename_queue = tf.train.string_input_producer([data_path], num_epochs=1)\n",
    "_, serialized_example = reader.read(filename_queue)"
   ]
  },
  {
   "cell_type": "code",
   "execution_count": 27,
   "metadata": {},
   "outputs": [],
   "source": [
    "features = tf.parse_single_example(\n",
    "    serialized_example,\n",
    "    features={\n",
    "        'image': tf.FixedLenFeature([], tf.string)\n",
    "    })"
   ]
  },
  {
   "cell_type": "code",
   "execution_count": 28,
   "metadata": {},
   "outputs": [
    {
     "data": {
      "text/plain": [
       "<tf.Tensor 'ParseSingleExample_2/Squeeze_image:0' shape=() dtype=string>"
      ]
     },
     "execution_count": 28,
     "metadata": {},
     "output_type": "execute_result"
    }
   ],
   "source": [
    "features['image']"
   ]
  },
  {
   "cell_type": "code",
   "execution_count": null,
   "metadata": {},
   "outputs": [],
   "source": [
    "tf.decode_raw(features['image'], tf.uint8).eval()"
   ]
  },
  {
   "cell_type": "code",
   "execution_count": null,
   "metadata": {},
   "outputs": [],
   "source": []
  },
  {
   "cell_type": "code",
   "execution_count": 13,
   "metadata": {},
   "outputs": [
    {
     "data": {
      "text/plain": [
       "array([[[0.        , 0.        , 0.        ],\n",
       "        [0.        , 0.        , 0.        ],\n",
       "        [0.        , 0.        , 0.        ],\n",
       "        ...,\n",
       "        [0.        , 0.        , 0.        ],\n",
       "        [0.        , 0.        , 0.        ],\n",
       "        [0.        , 0.        , 0.        ]],\n",
       "\n",
       "       [[0.        , 0.        , 0.        ],\n",
       "        [0.        , 0.        , 0.        ],\n",
       "        [0.        , 0.        , 0.        ],\n",
       "        ...,\n",
       "        [0.        , 0.        , 0.        ],\n",
       "        [0.        , 0.        , 0.        ],\n",
       "        [0.        , 0.        , 0.        ]],\n",
       "\n",
       "       [[0.        , 0.        , 0.        ],\n",
       "        [0.        , 0.        , 0.        ],\n",
       "        [0.        , 0.        , 0.        ],\n",
       "        ...,\n",
       "        [0.        , 0.        , 0.        ],\n",
       "        [0.        , 0.        , 0.        ],\n",
       "        [0.        , 0.        , 0.        ]],\n",
       "\n",
       "       ...,\n",
       "\n",
       "       [[0.5058824 , 0.54509807, 0.54901963],\n",
       "        [0.5058824 , 0.54509807, 0.54901963],\n",
       "        [0.5058824 , 0.54509807, 0.54901963],\n",
       "        ...,\n",
       "        [0.5058824 , 0.5529412 , 0.54509807],\n",
       "        [0.5019608 , 0.5411765 , 0.5372549 ],\n",
       "        [0.5019608 , 0.5411765 , 0.5372549 ]],\n",
       "\n",
       "       [[0.        , 0.        , 0.        ],\n",
       "        [0.        , 0.        , 0.        ],\n",
       "        [0.        , 0.        , 0.        ],\n",
       "        ...,\n",
       "        [0.        , 0.        , 0.        ],\n",
       "        [0.        , 0.        , 0.        ],\n",
       "        [0.        , 0.        , 0.        ]],\n",
       "\n",
       "       [[0.        , 0.        , 0.        ],\n",
       "        [0.        , 0.        , 0.        ],\n",
       "        [0.        , 0.        , 0.        ],\n",
       "        ...,\n",
       "        [0.        , 0.        , 0.        ],\n",
       "        [0.        , 0.        , 0.        ],\n",
       "        [0.        , 0.        , 0.        ]]], dtype=float32)"
      ]
     },
     "execution_count": 13,
     "metadata": {},
     "output_type": "execute_result"
    }
   ],
   "source": [
    "image = tf.image.convert_image_dtype(image, dtype=tf.float32)\n",
    "image = tf.multiply(tf.subtract(image, 0.5), 2)\n",
    "image = tf.reshape(image, [64, 64, 3])\n",
    "image = tf.random_crop(image, [54, 54, 3])\n",
    "length_predictions_val, digits_predictions_string_val, image_batch_val = sess.run([length_predictions, digits_predictions_string, image_batch])\n",
    "image_batch_val = (image_batch_val / 2.0) + 0.5"
   ]
  },
  {
   "cell_type": "code",
   "execution_count": null,
   "metadata": {},
   "outputs": [],
   "source": []
  }
 ],
 "metadata": {
  "kernelspec": {
   "display_name": "Python 3",
   "language": "python",
   "name": "python3"
  },
  "language_info": {
   "codemirror_mode": {
    "name": "ipython",
    "version": 3
   },
   "file_extension": ".py",
   "mimetype": "text/x-python",
   "name": "python",
   "nbconvert_exporter": "python",
   "pygments_lexer": "ipython3",
   "version": "3.5.2"
  }
 },
 "nbformat": 4,
 "nbformat_minor": 2
}
